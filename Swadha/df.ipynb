{
 "cells": [
  {
   "cell_type": "markdown",
   "metadata": {},
   "source": [
    "# dataframe 1"
   ]
  },
  {
   "cell_type": "code",
   "execution_count": 2,
   "metadata": {},
   "outputs": [
    {
     "ename": "BadGzipFile",
     "evalue": "Not a gzipped file (b'\\x1f\\xef')",
     "output_type": "error",
     "traceback": [
      "\u001b[1;31m---------------------------------------------------------------------------\u001b[0m",
      "\u001b[1;31mBadGzipFile\u001b[0m                               Traceback (most recent call last)",
      "Cell \u001b[1;32mIn[2], line 45\u001b[0m\n\u001b[0;32m     43\u001b[0m file_path \u001b[38;5;241m=\u001b[39m \u001b[38;5;124m\"\u001b[39m\u001b[38;5;124mlncRNA_LncBookv2.0.fa.gz\u001b[39m\u001b[38;5;124m\"\u001b[39m\n\u001b[0;32m     44\u001b[0m columns \u001b[38;5;241m=\u001b[39m [\u001b[38;5;124m\"\u001b[39m\u001b[38;5;124mid\u001b[39m\u001b[38;5;124m\"\u001b[39m, \u001b[38;5;124m\"\u001b[39m\u001b[38;5;124msequence_length\u001b[39m\u001b[38;5;124m\"\u001b[39m, \u001b[38;5;124m\"\u001b[39m\u001b[38;5;124msequence\u001b[39m\u001b[38;5;124m\"\u001b[39m]\n\u001b[1;32m---> 45\u001b[0m data \u001b[38;5;241m=\u001b[39m \u001b[43mread_fasta\u001b[49m\u001b[43m(\u001b[49m\u001b[43mfile_path\u001b[49m\u001b[43m,\u001b[49m\u001b[43m \u001b[49m\u001b[43mcolumns\u001b[49m\u001b[43m)\u001b[49m\n\u001b[0;32m     47\u001b[0m \u001b[38;5;28mprint\u001b[39m(data)\n",
      "Cell \u001b[1;32mIn[2], line 24\u001b[0m, in \u001b[0;36mread_fasta\u001b[1;34m(file_path, columns)\u001b[0m\n\u001b[0;32m     21\u001b[0m \u001b[38;5;28;01mdef\u001b[39;00m \u001b[38;5;21mread_fasta\u001b[39m(file_path, columns):\n\u001b[0;32m     22\u001b[0m     file_path \u001b[38;5;241m=\u001b[39m \u001b[38;5;124m\"\u001b[39m\u001b[38;5;124mC:/Users/Swadha/Desktop/INTERNSHIP 2024/data collection/lncRNA_LncBookv2.0.fa.gz\u001b[39m\u001b[38;5;124m\"\u001b[39m\n\u001b[1;32m---> 24\u001b[0m     bd_func \u001b[38;5;241m=\u001b[39m \u001b[43mlncRNA_db\u001b[49m\u001b[43m(\u001b[49m\u001b[43mfile_path\u001b[49m\u001b[43m,\u001b[49m\u001b[43m \u001b[49m\u001b[38;5;124;43m'\u001b[39;49m\u001b[38;5;124;43m|\u001b[39;49m\u001b[38;5;124;43m'\u001b[39;49m\u001b[43m,\u001b[49m\u001b[43m \u001b[49m\u001b[38;5;241;43m1\u001b[39;49m\u001b[43m)\u001b[49m  \u001b[38;5;66;03m# Execute function\u001b[39;00m\n\u001b[0;32m     26\u001b[0m     \u001b[38;5;28;01mwith\u001b[39;00m gzip\u001b[38;5;241m.\u001b[39mopen(file_path, \u001b[38;5;124m'\u001b[39m\u001b[38;5;124mrt\u001b[39m\u001b[38;5;124m'\u001b[39m) \u001b[38;5;28;01mas\u001b[39;00m fasta_file:\n\u001b[0;32m     27\u001b[0m         records \u001b[38;5;241m=\u001b[39m []  \u001b[38;5;66;03m# Create empty list\u001b[39;00m\n",
      "Cell \u001b[1;32mIn[2], line 10\u001b[0m, in \u001b[0;36mlncRNA_db\u001b[1;34m(file_path, separator, RNA_index)\u001b[0m\n\u001b[0;32m      8\u001b[0m lncRNA_dictionary \u001b[38;5;241m=\u001b[39m {}\n\u001b[0;32m      9\u001b[0m \u001b[38;5;28;01mwith\u001b[39;00m gzip\u001b[38;5;241m.\u001b[39mopen(file_path, \u001b[38;5;124m'\u001b[39m\u001b[38;5;124mr\u001b[39m\u001b[38;5;124m'\u001b[39m) \u001b[38;5;28;01mas\u001b[39;00m fasta_file:\n\u001b[1;32m---> 10\u001b[0m     fasta_contents \u001b[38;5;241m=\u001b[39m \u001b[43mfasta_file\u001b[49m\u001b[38;5;241;43m.\u001b[39;49m\u001b[43mreadlines\u001b[49m\u001b[43m(\u001b[49m\u001b[43m)\u001b[49m\n\u001b[0;32m     11\u001b[0m     \u001b[38;5;28;01mfor\u001b[39;00m line \u001b[38;5;129;01min\u001b[39;00m fasta_contents:\n\u001b[0;32m     12\u001b[0m         \u001b[38;5;28;01mif\u001b[39;00m line\u001b[38;5;241m.\u001b[39mstartswith(\u001b[38;5;124m\"\u001b[39m\u001b[38;5;124m>\u001b[39m\u001b[38;5;124m\"\u001b[39m):\n",
      "File \u001b[1;32mc:\\Users\\Swadha\\AppData\\Local\\Programs\\Python\\Python312\\Lib\\gzip.py:427\u001b[0m, in \u001b[0;36mGzipFile.readline\u001b[1;34m(self, size)\u001b[0m\n\u001b[0;32m    425\u001b[0m \u001b[38;5;28;01mdef\u001b[39;00m \u001b[38;5;21mreadline\u001b[39m(\u001b[38;5;28mself\u001b[39m, size\u001b[38;5;241m=\u001b[39m\u001b[38;5;241m-\u001b[39m\u001b[38;5;241m1\u001b[39m):\n\u001b[0;32m    426\u001b[0m     \u001b[38;5;28mself\u001b[39m\u001b[38;5;241m.\u001b[39m_check_not_closed()\n\u001b[1;32m--> 427\u001b[0m     \u001b[38;5;28;01mreturn\u001b[39;00m \u001b[38;5;28;43mself\u001b[39;49m\u001b[38;5;241;43m.\u001b[39;49m\u001b[43m_buffer\u001b[49m\u001b[38;5;241;43m.\u001b[39;49m\u001b[43mreadline\u001b[49m\u001b[43m(\u001b[49m\u001b[43msize\u001b[49m\u001b[43m)\u001b[49m\n",
      "File \u001b[1;32mc:\\Users\\Swadha\\AppData\\Local\\Programs\\Python\\Python312\\Lib\\_compression.py:68\u001b[0m, in \u001b[0;36mDecompressReader.readinto\u001b[1;34m(self, b)\u001b[0m\n\u001b[0;32m     66\u001b[0m \u001b[38;5;28;01mdef\u001b[39;00m \u001b[38;5;21mreadinto\u001b[39m(\u001b[38;5;28mself\u001b[39m, b):\n\u001b[0;32m     67\u001b[0m     \u001b[38;5;28;01mwith\u001b[39;00m \u001b[38;5;28mmemoryview\u001b[39m(b) \u001b[38;5;28;01mas\u001b[39;00m view, view\u001b[38;5;241m.\u001b[39mcast(\u001b[38;5;124m\"\u001b[39m\u001b[38;5;124mB\u001b[39m\u001b[38;5;124m\"\u001b[39m) \u001b[38;5;28;01mas\u001b[39;00m byte_view:\n\u001b[1;32m---> 68\u001b[0m         data \u001b[38;5;241m=\u001b[39m \u001b[38;5;28;43mself\u001b[39;49m\u001b[38;5;241;43m.\u001b[39;49m\u001b[43mread\u001b[49m\u001b[43m(\u001b[49m\u001b[38;5;28;43mlen\u001b[39;49m\u001b[43m(\u001b[49m\u001b[43mbyte_view\u001b[49m\u001b[43m)\u001b[49m\u001b[43m)\u001b[49m\n\u001b[0;32m     69\u001b[0m         byte_view[:\u001b[38;5;28mlen\u001b[39m(data)] \u001b[38;5;241m=\u001b[39m data\n\u001b[0;32m     70\u001b[0m     \u001b[38;5;28;01mreturn\u001b[39;00m \u001b[38;5;28mlen\u001b[39m(data)\n",
      "File \u001b[1;32mc:\\Users\\Swadha\\AppData\\Local\\Programs\\Python\\Python312\\Lib\\gzip.py:527\u001b[0m, in \u001b[0;36m_GzipReader.read\u001b[1;34m(self, size)\u001b[0m\n\u001b[0;32m    523\u001b[0m \u001b[38;5;28;01mif\u001b[39;00m \u001b[38;5;28mself\u001b[39m\u001b[38;5;241m.\u001b[39m_new_member:\n\u001b[0;32m    524\u001b[0m     \u001b[38;5;66;03m# If the _new_member flag is set, we have to\u001b[39;00m\n\u001b[0;32m    525\u001b[0m     \u001b[38;5;66;03m# jump to the next member, if there is one.\u001b[39;00m\n\u001b[0;32m    526\u001b[0m     \u001b[38;5;28mself\u001b[39m\u001b[38;5;241m.\u001b[39m_init_read()\n\u001b[1;32m--> 527\u001b[0m     \u001b[38;5;28;01mif\u001b[39;00m \u001b[38;5;129;01mnot\u001b[39;00m \u001b[38;5;28;43mself\u001b[39;49m\u001b[38;5;241;43m.\u001b[39;49m\u001b[43m_read_gzip_header\u001b[49m\u001b[43m(\u001b[49m\u001b[43m)\u001b[49m:\n\u001b[0;32m    528\u001b[0m         \u001b[38;5;28mself\u001b[39m\u001b[38;5;241m.\u001b[39m_size \u001b[38;5;241m=\u001b[39m \u001b[38;5;28mself\u001b[39m\u001b[38;5;241m.\u001b[39m_pos\n\u001b[0;32m    529\u001b[0m         \u001b[38;5;28;01mreturn\u001b[39;00m \u001b[38;5;124mb\u001b[39m\u001b[38;5;124m\"\u001b[39m\u001b[38;5;124m\"\u001b[39m\n",
      "File \u001b[1;32mc:\\Users\\Swadha\\AppData\\Local\\Programs\\Python\\Python312\\Lib\\gzip.py:496\u001b[0m, in \u001b[0;36m_GzipReader._read_gzip_header\u001b[1;34m(self)\u001b[0m\n\u001b[0;32m    495\u001b[0m \u001b[38;5;28;01mdef\u001b[39;00m \u001b[38;5;21m_read_gzip_header\u001b[39m(\u001b[38;5;28mself\u001b[39m):\n\u001b[1;32m--> 496\u001b[0m     last_mtime \u001b[38;5;241m=\u001b[39m \u001b[43m_read_gzip_header\u001b[49m\u001b[43m(\u001b[49m\u001b[38;5;28;43mself\u001b[39;49m\u001b[38;5;241;43m.\u001b[39;49m\u001b[43m_fp\u001b[49m\u001b[43m)\u001b[49m\n\u001b[0;32m    497\u001b[0m     \u001b[38;5;28;01mif\u001b[39;00m last_mtime \u001b[38;5;129;01mis\u001b[39;00m \u001b[38;5;28;01mNone\u001b[39;00m:\n\u001b[0;32m    498\u001b[0m         \u001b[38;5;28;01mreturn\u001b[39;00m \u001b[38;5;28;01mFalse\u001b[39;00m\n",
      "File \u001b[1;32mc:\\Users\\Swadha\\AppData\\Local\\Programs\\Python\\Python312\\Lib\\gzip.py:456\u001b[0m, in \u001b[0;36m_read_gzip_header\u001b[1;34m(fp)\u001b[0m\n\u001b[0;32m    453\u001b[0m     \u001b[38;5;28;01mreturn\u001b[39;00m \u001b[38;5;28;01mNone\u001b[39;00m\n\u001b[0;32m    455\u001b[0m \u001b[38;5;28;01mif\u001b[39;00m magic \u001b[38;5;241m!=\u001b[39m \u001b[38;5;124mb\u001b[39m\u001b[38;5;124m'\u001b[39m\u001b[38;5;130;01m\\037\u001b[39;00m\u001b[38;5;130;01m\\213\u001b[39;00m\u001b[38;5;124m'\u001b[39m:\n\u001b[1;32m--> 456\u001b[0m     \u001b[38;5;28;01mraise\u001b[39;00m BadGzipFile(\u001b[38;5;124m'\u001b[39m\u001b[38;5;124mNot a gzipped file (\u001b[39m\u001b[38;5;132;01m%r\u001b[39;00m\u001b[38;5;124m)\u001b[39m\u001b[38;5;124m'\u001b[39m \u001b[38;5;241m%\u001b[39m magic)\n\u001b[0;32m    458\u001b[0m (method, flag, last_mtime) \u001b[38;5;241m=\u001b[39m struct\u001b[38;5;241m.\u001b[39munpack(\u001b[38;5;124m\"\u001b[39m\u001b[38;5;124m<BBIxx\u001b[39m\u001b[38;5;124m\"\u001b[39m, _read_exact(fp, \u001b[38;5;241m8\u001b[39m))\n\u001b[0;32m    459\u001b[0m \u001b[38;5;28;01mif\u001b[39;00m method \u001b[38;5;241m!=\u001b[39m \u001b[38;5;241m8\u001b[39m:\n",
      "\u001b[1;31mBadGzipFile\u001b[0m: Not a gzipped file (b'\\x1f\\xef')"
     ]
    }
   ],
   "source": [
    "import pandas as pd\n",
    "import re\n",
    "from Bio.SeqIO.FastaIO import SimpleFastaParser\n",
    "import gzip\n",
    "\n",
    "# Function to return the count number  in the fasta in a dictionary\n",
    "def lncRNA_db(file_path, separator, RNA_index):\n",
    "    lncRNA_dictionary = {}\n",
    "    with gzip.open(file_path, 'r') as fasta_file:\n",
    "        fasta_contents = fasta_file.readlines()\n",
    "        for line in fasta_contents:\n",
    "            if line.startswith(\">\"):\n",
    "                name = line.split(separator)[RNA_index]\n",
    "                if name not in lncRNA_dictionary:\n",
    "                    lncRNA_dictionary[name] = 1\n",
    "                else:\n",
    "                    lncRNA_dictionary[name] += 1\n",
    "    return lncRNA_dictionary\n",
    "\n",
    "# Function to read fasta and return a DataFrame\n",
    "def read_fasta(file_path, columns):\n",
    "    file_path = \"C:/Users/Swadha/Desktop/INTERNSHIP 2024/data collection/lncRNA_LncBookv2.0.fa.gz\"\n",
    "   \n",
    "    bd_func = lncRNA_db(file_path, '|', 1)  # Execute function\n",
    "    \n",
    "    with gzip.open(file_path, 'rt') as fasta_file:\n",
    "        records = []  # Create empty list\n",
    "        for title, sequence in SimpleFastaParser(fasta_file):\n",
    "            record = []\n",
    "            title_splits = re.findall(r\"[\\w']+\", title)  # Data cleaning\n",
    "            \n",
    "            record.append(title_splits[0])  # First values are ID\n",
    "            record.append(len(sequence))  # Second values are sequence lengths\n",
    "            sequence = \" \".join(sequence)  # It converts into one line\n",
    "            record.append(sequence)  # Third values are sequences\n",
    "\n",
    "            \n",
    "            records.append(record)  # Add the record to the list\n",
    "\n",
    "    return pd.DataFrame(records, columns=columns)  # Return DataFrame\n",
    "\n",
    "# Example usage\n",
    "file_path = \"lncRNA_LncBookv2.0.fa.gz\"\n",
    "columns = [\"id\", \"sequence_length\", \"sequence\"]\n",
    "data = read_fasta(file_path, columns)\n",
    "\n",
    "print(data)\n"
   ]
  },
  {
   "cell_type": "code",
   "execution_count": null,
   "metadata": {},
   "outputs": [],
   "source": []
  },
  {
   "cell_type": "markdown",
   "metadata": {},
   "source": [
    "# dataframe 2"
   ]
  },
  {
   "cell_type": "code",
   "execution_count": null,
   "metadata": {},
   "outputs": [],
   "source": [
    "import pandas as pd\n",
    "import re\n",
    "from Bio import SeqIO\n",
    "import gzip\n",
    "\n",
    "# Function to return the count number of RNA types in the FASTA file\n",
    "def lncRNA_db(file_path, separator, RNA_index):\n",
    "    lncRNA_dictionary = {}\n",
    "    with gzip.open(file_path, 'rt') as fasta_file:\n",
    "        for line in fasta_file:\n",
    "            if line.startswith(\">\"):\n",
    "                name = line.split(separator)[RNA_index]\n",
    "                if name not in lncRNA_dictionary:\n",
    "                    lncRNA_dictionary[name] = 1\n",
    "                else:\n",
    "                    lncRNA_dictionary[name] += 1\n",
    "    return lncRNA_dictionary\n",
    "\n",
    "# Function to read FASTA file and return a DataFrame\n",
    "def read_fasta(file_path, columns):\n",
    "    # Get the RNA count dictionary\n",
    "    bd_func = lncRNA_db(file_path, '|', 1)  # Execute function\n",
    "    \n",
    "    records = []  # Create empty list to store records\n",
    "    with gzip.open(file_path, 'rt') as handle:\n",
    "        for record in SeqIO.parse(handle, 'fasta'):\n",
    "            rec = []\n",
    "            title_splits = re.findall(r\"[\\w']+\", record.description)  # Data cleaning\n",
    "            \n",
    "            rec.append(title_splits[0])  # First value is ID\n",
    "            rec.append(len(record.seq))  # Second value is sequence length\n",
    "            rec.append(str(record.seq))  # Third value is the sequence\n",
    "            \n",
    "            records.append(rec)  # Add the record to the list\n",
    "\n",
    "    # Return DataFrame and RNA count dictionary\n",
    "    return pd.DataFrame(records, columns=columns), bd_func\n",
    "\n",
    "# Example usage\n",
    "file_path = \"lncRNA_LncBookv2.0.fa.gz\"\n",
    "columns = [\"id\", \"sequence_length\", \"sequence\"]\n",
    "data, rna_counts = read_fasta(file_path, columns)\n",
    "\n",
    "print(data)\n",
    "print(rna_counts)\n"
   ]
  },
  {
   "cell_type": "markdown",
   "metadata": {},
   "source": [
    "# dataframe 3"
   ]
  },
  {
   "cell_type": "code",
   "execution_count": 2,
   "metadata": {},
   "outputs": [
    {
     "name": "stdout",
     "output_type": "stream",
     "text": [
      "              id                                           sequence\n",
      "0  URS0000BC45A5  GUGAAAUGCAAAUGAGUUUUUUGAGUUUUUGUUGACACCUCUAACU...\n",
      "1  URS00026A285D  GAAGCCCGGGCCAGCCCCAGCGCCCAGCUGGAUCCCGGAAUAACCG...\n",
      "2  URS00026A23D0  CUCCCCUUCACCAGCUCCGCGGAAACCAUAGCAACGGGCAGCCGGA...\n",
      "3  URS0000456120  AGACUCCUGCAAACAGCAGCUGGCUUAGUGGAGGCUGCCAGACUUC...\n",
      "4  URS00007E3599  AAGAAGUGCCUUUCACCUCUCAUCAUGAUUCUGUGGCCUCCCCAGC...\n"
     ]
    }
   ],
   "source": [
    "import pandas as pd\n",
    "import re\n",
    "from Bio.SeqIO.FastaIO import SimpleFastaParser\n",
    "\n",
    "# Function to return the count number of animals in the fasta in a dictionary\n",
    "def lncRNA_db(file_path, separator, index):\n",
    "    lncRNA_dictionary = {}\n",
    "    with open(file_path) as fasta_file:\n",
    "        fasta_contents = fasta_file.readlines()\n",
    "        for line in fasta_contents:\n",
    "            if line.startswith(\">\"):\n",
    "                parts = line.split(separator)\n",
    "                if len(parts) > index:  # Check if parts has enough elements\n",
    "                    name = parts[index]\n",
    "                    if name not in lncRNA_dictionary:\n",
    "                        lncRNA_dictionary[name] = 1\n",
    "                    else:\n",
    "                        lncRNA_dictionary[name] += 1\n",
    "    return lncRNA_dictionary\n",
    "\n",
    "# Function to read FASTA file and return a DataFrame\n",
    "def read_fasta(file_path, columns):\n",
    "    bd_func = lncRNA_db(file_path, '|', 1)  # Execute function\n",
    "    \n",
    "    with open(file_path, encoding=\"utf-8\") as fasta_file:\n",
    "        records = []  # Create empty list\n",
    "        for title, sequence in SimpleFastaParser(fasta_file):\n",
    "            record = []\n",
    "            title_splits = re.findall(r\"[\\w']+\", title)  # Data cleaning is needed\n",
    "\n",
    "            if len(title_splits) > 0:  # Ensure title_splits has at least one element\n",
    "                record.append(title_splits[0])  # First values are ID\n",
    "            else:\n",
    "                record.append(\"\")  # Use an empty string if no ID found\n",
    "\n",
    "            sequence = \"\".join(sequence)  # Convert sequence into one line\n",
    "            record.append(sequence)  # Append sequence\n",
    "\n",
    "            records.append(record)  # Add record to records list\n",
    "\n",
    "    df = pd.DataFrame(records, columns=columns)  # Create DataFrame\n",
    "    return df\n",
    "\n",
    "# Define the column names\n",
    "columns = [\"id\", \"sequence\"]\n",
    "\n",
    "# Use the function to read the FASTA file and create a DataFrame\n",
    "data = read_fasta(\"rnacentral_seq.fasta\", columns=columns)\n",
    "\n",
    "# Display the DataFrame\n",
    "print(data)\n"
   ]
  },
  {
   "cell_type": "code",
   "execution_count": 4,
   "metadata": {},
   "outputs": [],
   "source": [
    "data.to_excel(\"lncRNA_data.xlsx\", index=True, sheet_name=\"lncRNA Data\")"
   ]
  },
  {
   "cell_type": "markdown",
   "metadata": {},
   "source": [
    "# Reading using UtilityLib and Bio.SeqIO\n"
   ]
  },
  {
   "cell_type": "code",
   "execution_count": null,
   "metadata": {},
   "outputs": [],
   "source": [
    "# pip install git+https://github.com/TheBiomics/UtilityLib\n",
    "from UtilityLib import ProjectManager\n",
    "from UtilityLib.lib import EntityPath\n",
    "\n",
    "T0113  = ProjectManager(path_bases=[\"/mnt/DataDrive/MDD/T0113--ncRNA-TCS/ncRNA-ML/\"])\n",
    "\n",
    "T0113.config.path_bioinfo_large = EntityPath(\"/mnt/DataDrive/MDD/T0043--BioInfoData--part-2--Large\")\n",
    "T0113.config.path_bioinfo = EntityPath(\"/mnt/DataDrive/MDD/T0043--BioInfoData\")\n",
    "T0113.config.path_rnacentral = T0113.config.path_bioinfo_large / 'RNACentral/24.0/'\n",
    "T0113.config.path_lincip =  T0113.config.path_bioinfo / 'LNCipedia/5.2/'\n"
   ]
  },
  {
   "cell_type": "code",
   "execution_count": null,
   "metadata": {},
   "outputs": [],
   "source": [
    "# Count total lines in the fa.gz file\n",
    "# ~490_549_792 lines and ~32_524_827 fasta records\n",
    "_rc_seq_path = T0113.config.path_rnacentral / 'sequences/rnacentral_active.fasta.gz'\n",
    "T0113.count_file_lines(_rc_seq_path)\n"
   ]
  },
  {
   "cell_type": "code",
   "execution_count": null,
   "metadata": {},
   "outputs": [],
   "source": [
    "# Count records\n",
    "\n",
    "from Bio import SeqIO\n",
    "T0113.require('gzip', 'GZip')\n",
    "\n",
    "with T0113.GZip.open(_rc_seq_path, 'rt') as _fh:\n",
    "  _counter = 0\n",
    "  for _rec in SeqIO.parse(_fh, 'fasta'):\n",
    "      _counter += 1\n",
    "\n",
    "# Total records ~32_524_827 fasta records\n",
    "_counter"
   ]
  },
  {
   "cell_type": "code",
   "execution_count": null,
   "metadata": {},
   "outputs": [],
   "source": [
    "# Write LncRNA records in chunks\n",
    "\n",
    "from Bio import SeqIO\n",
    "T0113.require('gzip', 'GZip')\n",
    "\n",
    "_total_sequence_records = round(32_524_827, -6) + 10\n",
    "\n",
    "_df_pkl_storage = (T0113.path_base / 'lnc-dfs').validate()\n",
    "_df_file_template = \"lncRNA-%s.df.gz\"\n",
    "\n",
    "_rc_seq_path = T0113.config.path_rnacentral / 'sequences/rnacentral_active.fasta.gz'\n",
    "\n",
    "with T0113.GZip.open(_rc_seq_path, 'rt') as _fh:\n",
    "  _fasta_seq_ids = []\n",
    "  _file_written_num = 0\n",
    "  _counter = 0\n",
    "  _df_row_size = 100_000\n",
    "\n",
    "  for _rec in SeqIO.parse(_fh, 'fasta'):\n",
    "    _file_num = _counter // _df_row_size\n",
    "    _seq_df_path = _df_pkl_storage / (_df_file_template % str(_file_written_num + 1))\n",
    "\n",
    "    if _seq_df_path.exists():\n",
    "      continue\n",
    "\n",
    "    if not (_file_written_num == _file_num):\n",
    "      _DF = T0113.DF(_fasta_seq_ids, columns=['LncRNA', 'Description', 'Seq'])\n",
    "      T0113.pickle(_seq_df_path, _DF)\n",
    "\n",
    "      _fasta_seq_ids = []\n",
    "\n",
    "      # Set next file\n",
    "      _file_written_num = _file_num\n",
    "      print(f\"{_file_written_num=} {_counter}\")\n",
    "\n",
    "    _counter += 1\n",
    "    _fasta_seq_ids.append((_rec.id, _rec.description, str(_rec.seq)))\n"
   ]
  }
 ],
 "metadata": {
  "kernelspec": {
   "display_name": "Python 3",
   "language": "python",
   "name": "python3"
  },
  "language_info": {
   "codemirror_mode": {
    "name": "ipython",
    "version": 3
   },
   "file_extension": ".py",
   "mimetype": "text/x-python",
   "name": "python",
   "nbconvert_exporter": "python",
   "pygments_lexer": "ipython3",
   "version": "3.12.3"
  }
 },
 "nbformat": 4,
 "nbformat_minor": 2
}
