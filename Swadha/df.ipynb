{
 "cells": [
  {
   "cell_type": "markdown",
   "metadata": {},
   "source": [
    "# dataframe 1"
   ]
  },
  {
   "cell_type": "code",
   "execution_count": 8,
   "metadata": {},
   "outputs": [
    {
     "name": "stdout",
     "output_type": "stream",
     "text": [
      "               id                                           sequence  \\\n",
      "0   URS0000BC45A5  GUGAAAUGCAAAUGAGUUUUUUGAGUUUUUGUUGACACCUCUAACU...   \n",
      "1   URS00026A285D  GAAGCCCGGGCCAGCCCCAGCGCCCAGCUGGAUCCCGGAAUAACCG...   \n",
      "2   URS00026A23D0  CUCCCCUUCACCAGCUCCGCGGAAACCAUAGCAACGGGCAGCCGGA...   \n",
      "3   URS0000456120  AGACUCCUGCAAACAGCAGCUGGCUUAGUGGAGGCUGCCAGACUUC...   \n",
      "4   URS00007E3599  AAGAAGUGCCUUUCACCUCUCAUCAUGAUUCUGUGGCCUCCCCAGC...   \n",
      "5   URS000075E21A  GAACUCCUUACCCCAGCUGCCUGGCUGCCCUCAGCUUCCCAAAGCU...   \n",
      "6   URS0000CCE02F  CAUCAGACACGAAGGAGAGGCCAACAGAUGAGGGAAGCCAUUUUUC...   \n",
      "7   URS00026A1FD4  CCUUUCCUGCUUCCUCACCCGCUGUAGCAAGCAGGUGUGGAGUCGA...   \n",
      "8   URS000075E59E  UUGAAGAGAUGAGUGCGGGGCUCAUCUAUCCCUGGAAUUGUCUUUC...   \n",
      "9   URS000075A563  GAGAAGGGAGGAGUUAUUCAGGCCUCCGCCAGCUUCUAGGCCCUGG...   \n",
      "10  URS0000193C7E  GGCCGGGCGCGGUGGCUCACGCCUGUAAUCCCAGCUCUCAGGGAGG...   \n",
      "11  URS000075B07A  AGCGGGCUGCAGGGCUGCGGGCGCUUGGUUCGGCCUGGCCCGGCCG...   \n",
      "12  URS000075AA30  AAACAGUUGCUGUGGGGAUUGAAUGACUAGUGCAUGUGAAGCUGCC...   \n",
      "13  URS000075C848  GUGCUUGACUGGAGGAGGGCUGGCAGCAGAAGUGCAGCUGACCGGG...   \n",
      "14  URS000075BB37  UGUCCUCCAUUGUAAGAUAAAAAGAGCUACCUAAGAGAUCUGUGGC...   \n",
      "\n",
      "    seq_length  \n",
      "0          558  \n",
      "1          558  \n",
      "2          557  \n",
      "3          556  \n",
      "4          555  \n",
      "5         1075  \n",
      "6          999  \n",
      "7          887  \n",
      "8          666  \n",
      "9          574  \n",
      "10         200  \n",
      "11        3284  \n",
      "12        2551  \n",
      "13        2566  \n",
      "14        2051  \n"
     ]
    }
   ],
   "source": [
    "import pandas as pd\n",
    "import re\n",
    "from Bio.SeqIO.FastaIO import SimpleFastaParser\n",
    "\n",
    "# defining a function that helps in counting the entries of FASTA file while seperating the titles\n",
    "def lncRNA_db(file_path, separator, index):\n",
    "    lncRNA_dictionary = {}                             #initialize an empty dictionary\n",
    "    with open(file_path) as fasta_file:                #open fasta file, \"with\" statement ensure the file is closed after execution\n",
    "        fasta_contents = fasta_file.readlines()        #read all lines and store them in list \"fasta_contents\"\n",
    "        for line in fasta_contents:                    #iterates over each line in FASTA file \n",
    "            if line.startswith(\">\"):                   #checks if line is a header using \".startswith()\" method\n",
    "                parts = line.split(separator)          #splits the header line into parts using the preffered seperator\n",
    "                if len(parts) > index:                 #This line checks whether the length of the parts list is greater than the specified index.\n",
    "                    name = parts[index]                #extracts \"parts\" from the \"index\"  and stores it in variable name \n",
    "                    if name not in lncRNA_dictionary:  #update the dictionary\n",
    "                        lncRNA_dictionary[name] = 1    #if name is not in dictionary\n",
    "                    else:\n",
    "                        lncRNA_dictionary[name] += 1   #if name is in dictionary index=1\n",
    "    return lncRNA_dictionary\n",
    "\n",
    "# MAIN Function to read FASTA file and return a DataFrame\n",
    "def read_fasta(file_path, columns):                          #defining the function with two parameters file path and names of coloumn\n",
    "    bd_func = lncRNA_db(file_path, '|', 1)                   # calling the lncRNA_db function with index=1\n",
    "    \n",
    "    with open(file_path, encoding=\"utf-8\") as fasta_file:    #open fasta file with utf-8 encoder for displaying FASTA characters instead of gibberish\n",
    "        records = []                                         #initialize and Create empty list\n",
    "        for title, sequence in SimpleFastaParser(fasta_file):#simplefastaparser iterates FASTA file returning title and seq\n",
    "            record = []                                      #this empty list will temporarily hold the processed ID and sequence for the current record.\n",
    "            title_splits = re.findall(r\"[\\w']+\", title)      # Data cleaning is needed\n",
    "\n",
    "            if len(title_splits) > 0:                        # Ensure title_splits has at least one element\n",
    "                record.append(title_splits[0])               # First value is added/ appended as ID\n",
    "            else:\n",
    "                record.append(\"\")                            # Use an empty string if no ID found\n",
    "\n",
    "            sequence = \"\".join(sequence)                     # Convert sequence into one continous line\n",
    "            record.append(sequence)                          # Append sequence\n",
    "            record.append(len(sequence)) #Second values are sequences lengths\n",
    "\n",
    "            records.append(record)                           # Add record with ID and seq to records list\n",
    "\n",
    "    df = pd.DataFrame(records, columns=columns)              # Create DataFrame by converting records list into a pandas df\n",
    "    return df\n",
    "\n",
    "# Define the column names\n",
    "columns = [\"id\",\"sequence\" , \"seq_length\"]\n",
    "\n",
    "# Use the function to read the FASTA file and create a DataFrame\n",
    "data = read_fasta(\"rnacentral_seq.fasta\", columns=columns)\n",
    "\n",
    "# Display the DataFrame\n",
    "print(data)\n"
   ]
  },
  {
   "cell_type": "code",
   "execution_count": 9,
   "metadata": {},
   "outputs": [],
   "source": [
    "data.to_excel(\"lncRNA_data.xlsx\", index=True, sheet_name=\"lncRNA Data\")"
   ]
  },
  {
   "cell_type": "markdown",
   "metadata": {},
   "source": [
    "# In case of large files we use gzip.open method"
   ]
  },
  {
   "cell_type": "code",
   "execution_count": null,
   "metadata": {},
   "outputs": [],
   "source": [
    "#IN CASES FOR LARGE FILES, WE USE gzip.open \n",
    "import gzip\n",
    "from Bio.SeqIO.FastaIO import SimpleFastaParser\n",
    "from Bio import SeqIO\n",
    "\n",
    "_df= 'lncRNA_LncBookv2.0.fa.gz'\n",
    "\n",
    "blank_list = []\n",
    "\n",
    "_reads= 0\n",
    "\n",
    "with gzip.open(_df, 'rt') as _fh:\n",
    "    for _rec in SeqIO.parse(_fh , 'fasta'):\n",
    "        _reads += 1\n",
    "        blank_list.append((_rec.id , _rec.description , _rec.seq))\n",
    "        if _reads > 1_00000: break #forming a limit of only 1,00,000 sequences\n",
    "\n"
   ]
  },
  {
   "cell_type": "code",
   "execution_count": null,
   "metadata": {},
   "outputs": [],
   "source": [
    "import pandas as pd\n",
    "\n",
    "data2= pd.DataFrame(blank_list, columns=('id', 'desc', 'seq'))\n",
    "\n",
    "data2.to_csv(\"lncRNA_LncBookv2.csv\" , index=True)"
   ]
  },
  {
   "cell_type": "markdown",
   "metadata": {},
   "source": [
    "# Count number of \"A,U,G,C\" in a sequence and return a fraction value"
   ]
  },
  {
   "cell_type": "code",
   "execution_count": 3,
   "metadata": {},
   "outputs": [
    {
     "name": "stdout",
     "output_type": "stream",
     "text": [
      "{'A': 0.24735729386892177, 'U': 0.0, 'G': 0.19873150105708245, 'C': 0.24312896405919662}\n"
     ]
    }
   ],
   "source": [
    "def nucleotide_fractions(rna_seq):\n",
    "\n",
    "    \n",
    "   \n",
    "    # Calculate the length of the sequence\n",
    "    seq_length = len(rna_seq)\n",
    "    \n",
    "    # Count the occurrences of each nucleotide\n",
    "    a_count = rna_seq.count('A')\n",
    "    u_count = rna_seq.count('U')\n",
    "    g_count = rna_seq.count('G')\n",
    "    c_count = rna_seq.count('C')\n",
    "    \n",
    "    # Calculate the fraction of each nucleotide\n",
    "    a_fraction = a_count / seq_length\n",
    "    u_fraction = u_count / seq_length\n",
    "    g_fraction = g_count / seq_length\n",
    "    c_fraction = c_count / seq_length\n",
    "    \n",
    "    return {\n",
    "        'A': a_fraction,\n",
    "        'U': u_fraction,\n",
    "        'G': g_fraction,\n",
    "        'C': c_fraction\n",
    "    }\n",
    "\n",
    "rna_seq= \"CACACTCTGAGTTTCTGAGAGTAAGCCACTGTCAGTTCCTGGGGTGAGCCACCAGCCACATGGACACAATTTCCTCTTTTTGATGGAAACGTTTTCTTCCAAATTGTGCTGCACGTTTTTGGCGAGAGCATGGGGCTGTGCGGCGTCCCCTCCCTGGCGCCCACCTGTGCCCTGCACACTGGCCTGCACTGTGGTGATCTCGCTTGGCCCCCACCTGATTCCCGACATACAGCAGAGGAACCTTAGGCTCAGGTGGAACAGCCTCAACTGATTCTGTCCCTGAACTTCCGTACACAGCCCTGGAGTCGTCTTAGAGCCATGATTTATTTAACTGTTCTTTCATTTTACAGAACATAAAATGTATTGTTTCCAACTTTTTTCCTATGGTAAATAATACTAAAGTAAATATCTCTGTGCATGAATCTTTTTGTATATGTTGGAATATCCTTAAGATAAGGCCCCAGAACTAAAAGTACCCTGTCAAAAGGTGAGCATTTCCGGTTCCCCTGCTGTGCTTTGCTGCGTTGTTCTCTCCTGCTGCAACGTTCTCACTCCACAATCCTGGGGCAGGGAGGGGAGGCCCAGCTGAGTTTGGATCATAATCCTGAAAGACACAATCCCAAGCACCATAATGTGGAATGTTGAAATCCCTAAAGATCAAAATCCCTCAAGTCTAAAATCCCTGATATTTCAGATGACCACAGCTACAGGGCTAGGTGCACACAATTAGTAACCGTAGCGATATACGTGTACACGTTTCTCTTTTGACTTATTTCTTTATGGTCTGTCTTCTTATAACTGCTACACCCATGCCGCCGTCGTTAGTTACCTCAGTGTTTATGCAAAAATACCTGTTATCATTGCCTATTTTATTGTGTAAAGTGGCCTATGAAATGTTCTGTTGTGTTTTTATGTTTCTCAAATACATACCTTTTAAAAATGTAAA\"\n",
    "fractions = nucleotide_fractions(rna_seq)\n",
    "print(fractions)\n"
   ]
  },
  {
   "cell_type": "markdown",
   "metadata": {},
   "source": [
    "# The next code is for Datasets and a fraction of thier \"A,U,G,C\" content"
   ]
  },
  {
   "cell_type": "code",
   "execution_count": null,
   "metadata": {},
   "outputs": [],
   "source": [
    "import pandas as pd\n",
    "\n",
    "def nucleotide_fractions(rna_sequence):\n",
    "  \n",
    "    # Calculate the length of the sequence\n",
    "    sequence_length = len(rna_sequence)\n",
    "    \n",
    "    # Count the occurrences of each nucleotide\n",
    "    a_count = rna_sequence.count('A')\n",
    "    u_count = rna_sequence.count('U')\n",
    "    g_count = rna_sequence.count('G')\n",
    "    c_count = rna_sequence.count('C')\n",
    "    \n",
    "    # Calculate the fraction of each nucleotide\n",
    "    a_fraction = a_count / sequence_length if sequence_length > 0 else 0\n",
    "    u_fraction = u_count / sequence_length if sequence_length > 0 else 0\n",
    "    g_fraction = g_count / sequence_length if sequence_length > 0 else 0\n",
    "    c_fraction = c_count / sequence_length if sequence_length > 0 else 0\n",
    "    \n",
    "    return a_fraction, u_fraction, g_fraction, c_fraction\n",
    "\n",
    "def process_rna_sequences(file_path):\n",
    "    # Read the CSV file into a DataFrame\n",
    "    df = pd.read_csv(file_path)\n",
    "\n",
    "\n",
    "    # Print the column names to verify the column containing RNA sequences\n",
    "    print(\"Column names in the CSV file:\", df.columns.tolist())\n",
    "    \n",
    "    # Replace 'sequence' with the actual column name in your CSV file\n",
    "    sequence_column = 'seq'  # Adjust this based on your CSV file\n",
    "    \n",
    "    # Check if the sequence column exists in the DataFrame\n",
    "    if sequence_column not in df.columns:\n",
    "        raise KeyError(f\"Column '{sequence_column}' not found in the CSV file.\")\n",
    "    \n",
    "    # Assuming the RNA sequences are in a column named 'seq'\n",
    "    results = {\n",
    "        'A_fraction': [],\n",
    "        'U_fraction': [],\n",
    "        'G_fraction': [],\n",
    "        'C_fraction': []\n",
    "    }\n",
    "    \n",
    "    for sequence in df['seq']:\n",
    "        a_fraction, u_fraction, g_fraction, c_fraction = nucleotide_fractions(sequence)\n",
    "        results['A_fraction'].append(a_fraction)\n",
    "        results['U_fraction'].append(u_fraction)\n",
    "        results['G_fraction'].append(g_fraction)\n",
    "        results['C_fraction'].append(c_fraction)\n",
    "    \n",
    "    # Create a new DataFrame with the results\n",
    "    results_df = pd.DataFrame(results)\n",
    "    \n",
    "    # Optionally, you can concatenate the results with the original DataFrame\n",
    "    df = pd.concat([df, results_df], axis=1)\n",
    "    \n",
    "    return df\n",
    "\n",
    "# Example usage\n",
    "file_path = 'lncRNA_LncBookv2.csv'  # Replace with the path to your CSV file\n",
    "processed_df = process_rna_sequences(file_path)\n",
    "print(processed_df)\n",
    "\n",
    "# Optionally, save the processed DataFrame to a new CSV file\n",
    "processed_df.to_csv('processed_rna_sequences.csv', index=False)\n"
   ]
  }
 ],
 "metadata": {
  "kernelspec": {
   "display_name": "Python 3",
   "language": "python",
   "name": "python3"
  },
  "language_info": {
   "codemirror_mode": {
    "name": "ipython",
    "version": 3
   },
   "file_extension": ".py",
   "mimetype": "text/x-python",
   "name": "python",
   "nbconvert_exporter": "python",
   "pygments_lexer": "ipython3",
   "version": "3.12.3"
  }
 },
 "nbformat": 4,
 "nbformat_minor": 2
}
