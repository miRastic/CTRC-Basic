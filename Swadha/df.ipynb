{
 "cells": [
  {
   "cell_type": "code",
   "execution_count": null,
   "metadata": {},
   "outputs": [],
   "source": [
    "import pandas as pd\n",
    "import re\n",
    "from Bio.SeqIO.FastaIO import SimpleFastaParser\n",
    "import gzip\n",
    "\n",
    "# Function to return the count number  in the fasta in a dictionary\n",
    "def lncRNA_db(file_path, separator, RNA_index):\n",
    "    lncRNA_dictionary = {}\n",
    "    with gzip.open(file_path, 'r') as fasta_file:\n",
    "        fasta_contents = fasta_file.readlines()\n",
    "        for line in fasta_contents:\n",
    "            if line.startswith(\">\"):\n",
    "                name = line.split(separator)[RNA_index]\n",
    "                if name not in lncRNA_dictionary:\n",
    "                    lncRNA_dictionary[name] = 1\n",
    "                else:\n",
    "                    lncRNA_dictionary[name] += 1\n",
    "    return lncRNA_dictionary\n",
    "\n",
    "# Function to read fasta and return a DataFrame\n",
    "def read_fasta(file_path, columns):\n",
    "    file_path = \"C:/Users/Swadha/Desktop/INTERNSHIP 2024/data collection/lncRNA_LncBookv2.0.fa.gz\"\n",
    "   \n",
    "    bd_func = lncRNA_db(file_path, '|', 1)  # Execute function\n",
    "    \n",
    "    with gzip.open(file_path, 'rt') as fasta_file:\n",
    "        records = []  # Create empty list\n",
    "        for title, sequence in SimpleFastaParser(fasta_file):\n",
    "            record = []\n",
    "            title_splits = re.findall(r\"[\\w']+\", title)  # Data cleaning\n",
    "            \n",
    "            record.append(title_splits[0])  # First values are ID\n",
    "            record.append(len(sequence))  # Second values are sequence lengths\n",
    "            sequence = \" \".join(sequence)  # It converts into one line\n",
    "            record.append(sequence)  # Third values are sequences\n",
    "\n",
    "            \n",
    "            records.append(record)  # Add the record to the list\n",
    "\n",
    "    return pd.DataFrame(records, columns=columns)  # Return DataFrame\n",
    "\n",
    "# Example usage\n",
    "file_path = \"lncRNA_LncBookv2.0.fa.gz\"\n",
    "columns = [\"id\", \"sequence_length\", \"sequence\"]\n",
    "data = read_fasta(file_path, columns)\n",
    "\n",
    "print(data)\n"
   ]
  }
 ],
 "metadata": {
  "language_info": {
   "name": "python"
  }
 },
 "nbformat": 4,
 "nbformat_minor": 2
}
