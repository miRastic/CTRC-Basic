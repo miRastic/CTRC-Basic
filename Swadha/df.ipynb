{
 "cells": [
  {
   "cell_type": "markdown",
   "metadata": {},
   "source": [
    "# dataframe 1"
   ]
  },
  {
   "cell_type": "code",
   "execution_count": 1,
   "metadata": {},
   "outputs": [
    {
     "ename": "TypeError",
     "evalue": "startswith first arg must be bytes or a tuple of bytes, not str",
     "output_type": "error",
     "traceback": [
      "\u001b[1;31m---------------------------------------------------------------------------\u001b[0m",
      "\u001b[1;31mTypeError\u001b[0m                                 Traceback (most recent call last)",
      "Cell \u001b[1;32mIn[1], line 45\u001b[0m\n\u001b[0;32m     43\u001b[0m file_path \u001b[38;5;241m=\u001b[39m \u001b[38;5;124m\"\u001b[39m\u001b[38;5;124mlncRNA_LncBookv2.0.fa.gz\u001b[39m\u001b[38;5;124m\"\u001b[39m\n\u001b[0;32m     44\u001b[0m columns \u001b[38;5;241m=\u001b[39m [\u001b[38;5;124m\"\u001b[39m\u001b[38;5;124mid\u001b[39m\u001b[38;5;124m\"\u001b[39m, \u001b[38;5;124m\"\u001b[39m\u001b[38;5;124msequence_length\u001b[39m\u001b[38;5;124m\"\u001b[39m, \u001b[38;5;124m\"\u001b[39m\u001b[38;5;124msequence\u001b[39m\u001b[38;5;124m\"\u001b[39m]\n\u001b[1;32m---> 45\u001b[0m data \u001b[38;5;241m=\u001b[39m \u001b[43mread_fasta\u001b[49m\u001b[43m(\u001b[49m\u001b[43mfile_path\u001b[49m\u001b[43m,\u001b[49m\u001b[43m \u001b[49m\u001b[43mcolumns\u001b[49m\u001b[43m)\u001b[49m\n\u001b[0;32m     47\u001b[0m \u001b[38;5;28mprint\u001b[39m(data)\n",
      "Cell \u001b[1;32mIn[1], line 24\u001b[0m, in \u001b[0;36mread_fasta\u001b[1;34m(file_path, columns)\u001b[0m\n\u001b[0;32m     21\u001b[0m \u001b[38;5;28;01mdef\u001b[39;00m \u001b[38;5;21mread_fasta\u001b[39m(file_path, columns):\n\u001b[0;32m     22\u001b[0m     file_path \u001b[38;5;241m=\u001b[39m \u001b[38;5;124m\"\u001b[39m\u001b[38;5;124mC:/Users/Swadha/Desktop/INTERNSHIP 2024/data collection/lncRNA_LncBookv2.0.fa.gz\u001b[39m\u001b[38;5;124m\"\u001b[39m\n\u001b[1;32m---> 24\u001b[0m     bd_func \u001b[38;5;241m=\u001b[39m \u001b[43mlncRNA_db\u001b[49m\u001b[43m(\u001b[49m\u001b[43mfile_path\u001b[49m\u001b[43m,\u001b[49m\u001b[43m \u001b[49m\u001b[38;5;124;43m'\u001b[39;49m\u001b[38;5;124;43m|\u001b[39;49m\u001b[38;5;124;43m'\u001b[39;49m\u001b[43m,\u001b[49m\u001b[43m \u001b[49m\u001b[38;5;241;43m1\u001b[39;49m\u001b[43m)\u001b[49m  \u001b[38;5;66;03m# Execute function\u001b[39;00m\n\u001b[0;32m     26\u001b[0m     \u001b[38;5;28;01mwith\u001b[39;00m gzip\u001b[38;5;241m.\u001b[39mopen(file_path, \u001b[38;5;124m'\u001b[39m\u001b[38;5;124mrt\u001b[39m\u001b[38;5;124m'\u001b[39m) \u001b[38;5;28;01mas\u001b[39;00m fasta_file:\n\u001b[0;32m     27\u001b[0m         records \u001b[38;5;241m=\u001b[39m []  \u001b[38;5;66;03m# Create empty list\u001b[39;00m\n",
      "Cell \u001b[1;32mIn[1], line 12\u001b[0m, in \u001b[0;36mlncRNA_db\u001b[1;34m(file_path, separator, RNA_index)\u001b[0m\n\u001b[0;32m     10\u001b[0m fasta_contents \u001b[38;5;241m=\u001b[39m fasta_file\u001b[38;5;241m.\u001b[39mreadlines()\n\u001b[0;32m     11\u001b[0m \u001b[38;5;28;01mfor\u001b[39;00m line \u001b[38;5;129;01min\u001b[39;00m fasta_contents:\n\u001b[1;32m---> 12\u001b[0m     \u001b[38;5;28;01mif\u001b[39;00m \u001b[43mline\u001b[49m\u001b[38;5;241;43m.\u001b[39;49m\u001b[43mstartswith\u001b[49m\u001b[43m(\u001b[49m\u001b[38;5;124;43m\"\u001b[39;49m\u001b[38;5;124;43m>\u001b[39;49m\u001b[38;5;124;43m\"\u001b[39;49m\u001b[43m)\u001b[49m:\n\u001b[0;32m     13\u001b[0m         name \u001b[38;5;241m=\u001b[39m line\u001b[38;5;241m.\u001b[39msplit(separator)[RNA_index]\n\u001b[0;32m     14\u001b[0m         \u001b[38;5;28;01mif\u001b[39;00m name \u001b[38;5;129;01mnot\u001b[39;00m \u001b[38;5;129;01min\u001b[39;00m lncRNA_dictionary:\n",
      "\u001b[1;31mTypeError\u001b[0m: startswith first arg must be bytes or a tuple of bytes, not str"
     ]
    }
   ],
   "source": [
    "import pandas as pd\n",
    "import re\n",
    "from Bio.SeqIO.FastaIO import SimpleFastaParser\n",
    "import gzip\n",
    "\n",
    "# Function to return the count number  in the fasta in a dictionary\n",
    "def lncRNA_db(file_path, separator, RNA_index):\n",
    "    lncRNA_dictionary = {}\n",
    "    with gzip.open(file_path, 'r') as fasta_file:\n",
    "        fasta_contents = fasta_file.readlines()\n",
    "        for line in fasta_contents:\n",
    "            if line.startswith(\">\"):\n",
    "                name = line.split(separator)[RNA_index]\n",
    "                if name not in lncRNA_dictionary:\n",
    "                    lncRNA_dictionary[name] = 1\n",
    "                else:\n",
    "                    lncRNA_dictionary[name] += 1\n",
    "    return lncRNA_dictionary\n",
    "\n",
    "# Function to read fasta and return a DataFrame\n",
    "def read_fasta(file_path, columns):\n",
    "    file_path = \"C:/Users/Swadha/Desktop/INTERNSHIP 2024/data collection/lncRNA_LncBookv2.0.fa.gz\"\n",
    "   \n",
    "    bd_func = lncRNA_db(file_path, '|', 1)  # Execute function\n",
    "    \n",
    "    with gzip.open(file_path, 'rt') as fasta_file:\n",
    "        records = []  # Create empty list\n",
    "        for title, sequence in SimpleFastaParser(fasta_file):\n",
    "            record = []\n",
    "            title_splits = re.findall(r\"[\\w']+\", title)  # Data cleaning\n",
    "            \n",
    "            record.append(title_splits[0])  # First values are ID\n",
    "            record.append(len(sequence))  # Second values are sequence lengths\n",
    "            sequence = \" \".join(sequence)  # It converts into one line\n",
    "            record.append(sequence)  # Third values are sequences\n",
    "\n",
    "            \n",
    "            records.append(record)  # Add the record to the list\n",
    "\n",
    "    return pd.DataFrame(records, columns=columns)  # Return DataFrame\n",
    "\n",
    "# Example usage\n",
    "file_path = \"lncRNA_LncBookv2.0.fa.gz\"\n",
    "columns = [\"id\", \"sequence_length\", \"sequence\"]\n",
    "data = read_fasta(file_path, columns)\n",
    "\n",
    "print(data)\n"
   ]
  },
  {
   "cell_type": "markdown",
   "metadata": {},
   "source": [
    "# dataframe 2"
   ]
  },
  {
   "cell_type": "code",
   "execution_count": null,
   "metadata": {},
   "outputs": [],
   "source": [
    "import pandas as pd\n",
    "import re\n",
    "from Bio import SeqIO\n",
    "import gzip\n",
    "\n",
    "# Function to return the count number of RNA types in the FASTA file\n",
    "def lncRNA_db(file_path, separator, RNA_index):\n",
    "    lncRNA_dictionary = {}\n",
    "    with gzip.open(file_path, 'rt') as fasta_file:\n",
    "        for line in fasta_file:\n",
    "            if line.startswith(\">\"):\n",
    "                name = line.split(separator)[RNA_index]\n",
    "                if name not in lncRNA_dictionary:\n",
    "                    lncRNA_dictionary[name] = 1\n",
    "                else:\n",
    "                    lncRNA_dictionary[name] += 1\n",
    "    return lncRNA_dictionary\n",
    "\n",
    "# Function to read FASTA file and return a DataFrame\n",
    "def read_fasta(file_path, columns):\n",
    "    # Get the RNA count dictionary\n",
    "    bd_func = lncRNA_db(file_path, '|', 1)  # Execute function\n",
    "    \n",
    "    records = []  # Create empty list to store records\n",
    "    with gzip.open(file_path, 'rt') as handle:\n",
    "        for record in SeqIO.parse(handle, 'fasta'):\n",
    "            rec = []\n",
    "            title_splits = re.findall(r\"[\\w']+\", record.description)  # Data cleaning\n",
    "            \n",
    "            rec.append(title_splits[0])  # First value is ID\n",
    "            rec.append(len(record.seq))  # Second value is sequence length\n",
    "            rec.append(str(record.seq))  # Third value is the sequence\n",
    "            \n",
    "            records.append(rec)  # Add the record to the list\n",
    "\n",
    "    # Return DataFrame and RNA count dictionary\n",
    "    return pd.DataFrame(records, columns=columns), bd_func\n",
    "\n",
    "# Example usage\n",
    "file_path = \"lncRNA_LncBookv2.0.fa.gz\"\n",
    "columns = [\"id\", \"sequence_length\", \"sequence\"]\n",
    "data, rna_counts = read_fasta(file_path, columns)\n",
    "\n",
    "print(data)\n",
    "print(rna_counts)\n"
   ]
  },
  {
   "cell_type": "markdown",
   "metadata": {},
   "source": [
    "# dataframe 3"
   ]
  },
  {
   "cell_type": "code",
   "execution_count": null,
   "metadata": {},
   "outputs": [],
   "source": [
    "import pandas as pd\n",
    "import re\n",
    "import gzip\n",
    "# a function to return the count number of animals in the fasta in a dictionary\n",
    "def lncRNA_db(file_path, separator, index):\n",
    "  lncRNA_dictionary={}\n",
    "  with gzip.open(\"lncRNA_LncBookv2.0.fa.gz\") as fasta_file:\n",
    "    fasta_contents = fasta_file.readlines()\n",
    "    for line in fasta_contents:\n",
    "      if line.startswith(\">\"):\n",
    "        name = line.split(separator)[index] \n",
    "        if name not in lncRNA_dictionary:\n",
    "          lncRNA_dictionary[name] = 1\n",
    "        else:\n",
    "          lncRNA_dictionary[name] = lncRNA_dictionary[name] + 1\n",
    "  \n",
    "  return lncRNA_dictionary\n",
    "\n",
    "\n",
    "def read_fasta(file_path, columns) :\n",
    "    bd_func = lncRNA_db(file_path, '|', 1) # execute function\n",
    " \n",
    "  from Bio.SeqIO.FastaIO import SimpleFastaParser \n",
    "  with gzip.open(\"lncRNA_LncBookv2.0.fa.gz\") as fasta_file :\n",
    "    records = [] # create empty list\n",
    "    for title, sequence in SimpleFastaParser(fasta_file): #SimpleFastaParser Iterate over Fasta records as string tuples. For each record a tuple of two strings is returned, the FASTA title line (without the leading ‘>’ character), and the sequence (with any whitespace removed). \n",
    "      record = []\n",
    "      title_splits=re.findall(r\"[\\w']+\", title) # Data cleaning is needed\n",
    "\n",
    "      record.append(title_splits[0])  #First values are ID (Append adds element to a list)\n",
    "      record.append(len(sequence)) #Second values are sequences lengths\n",
    "      sequence = \" \".join(sequence) #It converts into one line\n",
    "      record.append(sequence)#Third values are sequences\n",
    "    \n",
    "   \n",
    "    # print(records)\n",
    "pd.DataFrame(record, columns = columns) #We have created a function that returns a dataframe\n",
    "\n",
    "#Now let's use this function by inserting in the first argument the file name (or file path if your working directory is different from where the fasta file is)    \n",
    "#And in the second one the names of columns\n",
    "data= read_fasta(\"lncRNA_LncBookv2.0.fa.gz\", columns=[\"id\",\"sequence_length\", \"sequence\"])\n",
    "\n",
    "print(data)"
   ]
  }
 ],
 "metadata": {
  "kernelspec": {
   "display_name": "Python 3",
   "language": "python",
   "name": "python3"
  },
  "language_info": {
   "codemirror_mode": {
    "name": "ipython",
    "version": 3
   },
   "file_extension": ".py",
   "mimetype": "text/x-python",
   "name": "python",
   "nbconvert_exporter": "python",
   "pygments_lexer": "ipython3",
   "version": "3.12.3"
  }
 },
 "nbformat": 4,
 "nbformat_minor": 2
}
