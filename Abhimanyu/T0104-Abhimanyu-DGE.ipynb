{
 "cells": [
  {
   "cell_type": "code",
   "execution_count": null,
   "metadata": {},
   "outputs": [],
   "source": [
    "from UtilityLib import ProjectManager\n",
    "T0104 = ProjectManager(path_base=r\"/mnt/DataDrive/MDD/T0104--Abhimanyu-GeneExpression/TCGA-BRCA-Analysis-of-Genes-AN/\")\n"
   ]
  },
  {
   "cell_type": "code",
   "execution_count": null,
   "metadata": {},
   "outputs": [],
   "source": [
    "_sample_sheet = T0104.pd_tsv(T0104.find_files(T0104.get_path(), \"gdc_manifest*\")[0])\n",
    "_sample_sheet.columns = [_col.replace(' ', '_') for _col in _sample_sheet.columns]\n",
    "T0104.pd_excel(T0104.get_path(\"sample-data.xlsx\"), _sample_sheet, \"Samples\")\n",
    "_sample_sheet.head(2)"
   ]
  },
  {
   "cell_type": "code",
   "execution_count": null,
   "metadata": {},
   "outputs": [],
   "source": [
    "\"\"\"For star count\"\"\"\n",
    "if not isinstance(T0104.config.exp.star_files, (list, tuple)):\n",
    "    T0104.config.exp.star_files = []\n",
    "\n",
    "def convert_file_set_to_df(T0104, _file_set, _chunk_path):\n",
    "    _expression_df = None\n",
    "    for _f in _file_set:\n",
    "        _fn = T0104.filename(_f, with_ext=True)\n",
    "        if _f in T0104.config.exp.star_files:\n",
    "            continue\n",
    "        _df = T0104.pd_tsv(_f, skiprows=1)\n",
    "        _df['FileName'] = _fn\n",
    "        _expression_df = _df if _expression_df is None else T0104.PD.concat([_expression_df, _df], axis=0)\n",
    "        T0104.config.exp.star_files.append(_fn)\n",
    "    _expression_df.to_pickle(_chunk_path)\n",
    "\n",
    "\n",
    "_expression_path = T0104.get_path('expression-star-count.pkl.gz')\n",
    "if T0104.exists(_expression_path):\n",
    "    _combined_df = T0104.unpickle(_expression_path)\n",
    "else:\n",
    "    print(\"Reprocessing Files...\")\n",
    "    T0104.validate_dir(T0104.get_path('Read-Chunks'))\n",
    "    T0104.init_multiprocessing()\n",
    "    _chunk_size = 20\n",
    "    _expression_files = T0104.find_files(T0104.get_path(\"TCGA-Downloads\"), \"*/*tsv\")\n",
    "    _chunk_list = list(T0104.chunks(_expression_files, _chunk_size))\n",
    "    for _chunk_idx, _file_set in T0104.PB(enumerate(_chunk_list), total=len(_chunk_list)):\n",
    "        _chunk_path = T0104.get_path(f'Read-Chunks/File-Chunk-{_chunk_idx}.pkl.gz')\n",
    "        if T0104.exists(_chunk_path):\n",
    "            continue\n",
    "        # convert_file_set_to_df(T0104, _file_set, _chunk_path)\n",
    "        T0104.queue_task(convert_file_set_to_df, T0104, _file_set, _chunk_path)\n",
    "        T0104.update_config()\n",
    "\n",
    "    T0104.process_queue()\n",
    "    \"\"\"Combined all the read files\"\"\"\n",
    "    _pkl_dfs = T0104.find_files(T0104.get_path(\"Read-Chunks\"), \"*pkl.gz\")\n",
    "    _pkl_dfs_reads = []\n",
    "    for _pkf in T0104.PB(_pkl_dfs):\n",
    "        _pkl_dfs_reads.append(T0104.unpickle(_pkf))\n",
    "\n",
    "    _combined_df = T0104.PD.concat(_pkl_dfs_reads, axis=0)\n",
    "\n",
    "    # _combined_df = None\n",
    "    # for _pkf in T0104.PB(_pkl_dfs):\n",
    "    #     _df = T0104.unpickle(_pkf)\n",
    "    #     _combined_df = _df if _combined_df is None else T0104.PD.concat([_combined_df, _df], axis=0)\n",
    "\n",
    "    _combined_df.to_pickle(_expression_path)\n",
    "    print(_combined_df.shape) # ~ (96760675, 2)\n",
    "\n",
    "print(_combined_df.head(2))"
   ]
  },
  {
   "cell_type": "code",
   "execution_count": null,
   "metadata": {},
   "outputs": [],
   "source": [
    "_combined_df.head(2)"
   ]
  },
  {
   "cell_type": "code",
   "execution_count": null,
   "metadata": {},
   "outputs": [],
   "source": [
    "_filter_exp = _combined_df.gene_id.str.startswith('N_')\n",
    "\n",
    "_mapping_data = _combined_df[_filter_exp].copy()\n",
    "_expression_data = _combined_df[~_filter_exp].copy()\n",
    "\n",
    "_mapping_data.shape, _expression_data.shape"
   ]
  }
 ],
 "metadata": {
  "kernelspec": {
   "display_name": "Python 3",
   "language": "python",
   "name": "python3"
  },
  "language_info": {
   "codemirror_mode": {
    "name": "ipython",
    "version": 3
   },
   "file_extension": ".py",
   "mimetype": "text/x-python",
   "name": "python",
   "nbconvert_exporter": "python",
   "pygments_lexer": "ipython3",
   "version": "3.8.13"
  }
 },
 "nbformat": 4,
 "nbformat_minor": 2
}
